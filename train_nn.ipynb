{
 "cells": [
  {
   "cell_type": "code",
   "execution_count": 23,
   "metadata": {},
   "outputs": [],
   "source": [
    "inputs=[[0,0], [0,1], [1,0], [1,1]]\n",
    "outputs=[0, 1, 1, 1]"
   ]
  },
  {
   "cell_type": "code",
   "execution_count": 24,
   "metadata": {},
   "outputs": [],
   "source": [
    "import numpy as np \n",
    "input_value = np.array(inputs)\n",
    "output=np.array(outputs)\n",
    "output=output.reshape(len(output),1)\n"
   ]
  },
  {
   "cell_type": "code",
   "execution_count": 25,
   "metadata": {},
   "outputs": [
    {
     "data": {
      "text/plain": [
       "((4, 2), (4, 1))"
      ]
     },
     "execution_count": 25,
     "metadata": {},
     "output_type": "execute_result"
    }
   ],
   "source": [
    "input_value.shape,output.shape"
   ]
  },
  {
   "cell_type": "code",
   "execution_count": 26,
   "metadata": {},
   "outputs": [],
   "source": [
    "def sigmoid_function(x):\n",
    "    return 1/1+np.exp(-x)"
   ]
  },
  {
   "cell_type": "code",
   "execution_count": 27,
   "metadata": {},
   "outputs": [],
   "source": [
    "\n",
    "def derivate_fun(x):\n",
    "    return sigmoid_function(x)*(1-sigmoid_function(x))"
   ]
  },
  {
   "cell_type": "code",
   "execution_count": 28,
   "metadata": {},
   "outputs": [],
   "source": [
    "weights=np.array([[0.1],[0.1]])\n",
    "bias=0.5"
   ]
  },
  {
   "cell_type": "code",
   "execution_count": 29,
   "metadata": {},
   "outputs": [],
   "source": [
    "error_data=[]\n",
    "for epoch in range(300):\n",
    "    weighted_sum=np.dot(input_value,weights)+ bias\n",
    "    firstoutput=sigmoid_function(weighted_sum)\n",
    "    error=firstoutput-output\n",
    "    first_der=error\n",
    "    second_der=derivate_fun(firstoutput)\n",
    "    derivate=first_der*second_der\n",
    "    t_input=input_value.T\n",
    "    final_derivate=np.dot(t_input,output)\n",
    "    weights=weights-0.05*final_derivate\n",
    "    for i in derivate:\n",
    "        bias=bias-0.05*i\n",
    "    total_error=np.square(np.subtract(firstoutput,output)).mean()\n",
    "    error_data.append([1,total_error])"
   ]
  },
  {
   "cell_type": "code",
   "execution_count": 30,
   "metadata": {},
   "outputs": [
    {
     "data": {
      "text/plain": [
       "[<matplotlib.lines.Line2D at 0x7f7bab6ae340>,\n",
       " <matplotlib.lines.Line2D at 0x7f7bab6ae3a0>]"
      ]
     },
     "execution_count": 30,
     "metadata": {},
     "output_type": "execute_result"
    },
    {
     "data": {
      "image/png": "[encoded data removed]",
      "text/plain": [
       "<Figure size 640x480 with 1 Axes>"
      ]
     },
     "metadata": {},
     "output_type": "display_data"
    }
   ],
   "source": [
    "import matplotlib.pyplot as plt\n",
    "x_axis=[]\n",
    "y_axis=[]\n",
    "for i ,value in enumerate(error_data):\n",
    "    x_axis.append(i)\n",
    "    y_axis.append(value)\n",
    "plt.plot(x_axis,y_axis)"
   ]
  },
  {
   "cell_type": "code",
   "execution_count": 31,
   "metadata": {},
   "outputs": [
    {
     "data": {
      "text/plain": [
       "array([2.26869742e+09])"
      ]
     },
     "execution_count": 31,
     "metadata": {},
     "output_type": "execute_result"
    }
   ],
   "source": [
    "topered = np.array([0,1])\n",
    "result=np.dot(topered,weights) + bias\n",
    "res=sigmoid_function(result)\n",
    "res"
   ]
  },
  {
   "cell_type": "code",
   "execution_count": 32,
   "metadata": {},
   "outputs": [],
   "source": [
    "mytrained_network={\n",
    "      \"weights\":weights,\n",
    "      \"bias\":bias\n",
    "}"
   ]
  },
  {
   "cell_type": "code",
   "execution_count": 33,
   "metadata": {},
   "outputs": [],
   "source": [
    "import pickle\n",
    "with open(\"myfirstnn.pickle\",\"wb\")as handle:\n",
    "    pickle.dump(mytrained_network,handle)"
   ]
  }
 ],
 "metadata": {
  "kernelspec": {
   "display_name": ".venv",
   "language": "python",
   "name": "python3"
  },
  "language_info": {
   "codemirror_mode": {
    "name": "ipython",
    "version": 3
   },
   "file_extension": ".py",
   "mimetype": "text/x-python",
   "name": "python",
   "nbconvert_exporter": "python",
   "pygments_lexer": "ipython3",
   "version": "3.8.10"
  },
  "orig_nbformat": 4
 },
 "nbformat": 4,
 "nbformat_minor": 2
}
